{
 "cells": [
  {
   "cell_type": "markdown",
   "metadata": {},
   "source": [
    "# Data Wrangling Example"
   ]
  },
  {
   "cell_type": "markdown",
   "metadata": {},
   "source": [
    "## Gather"
   ]
  },
  {
   "cell_type": "code",
   "execution_count": 24,
   "metadata": {},
   "outputs": [],
   "source": [
    "#Import packages\n",
    "import pandas as pd\n",
    "import zipfile"
   ]
  },
  {
   "cell_type": "code",
   "execution_count": 25,
   "metadata": {},
   "outputs": [],
   "source": [
    "# Extract all contents from zip file\n",
    "with zipfile.ZipFile('armenian-online-job-postings.zip', 'r') as myzip:\n",
    "    myzip.extractall()"
   ]
  },
  {
   "cell_type": "code",
   "execution_count": 26,
   "metadata": {},
   "outputs": [],
   "source": [
    "# Read CSV (comma-separated) file into DataFrame\n",
    "df = pd.read_csv('online-job-postings.csv')"
   ]
  },
  {
   "source": [
    "## Assess"
   ],
   "cell_type": "markdown",
   "metadata": {}
  },
  {
   "cell_type": "code",
   "execution_count": 30,
   "metadata": {},
   "outputs": [
    {
     "output_type": "stream",
     "name": "stdout",
     "text": [
      "<class 'pandas.core.frame.DataFrame'>\nRangeIndex: 19001 entries, 0 to 19000\nData columns (total 24 columns):\n #   Column            Non-Null Count  Dtype \n---  ------            --------------  ----- \n 0   jobpost           19001 non-null  object\n 1   date              19001 non-null  object\n 2   Title             18973 non-null  object\n 3   Company           18994 non-null  object\n 4   AnnouncementCode  1208 non-null   object\n 5   Term              7676 non-null   object\n 6   Eligibility       4930 non-null   object\n 7   Audience          640 non-null    object\n 8   StartDate         9675 non-null   object\n 9   Duration          10798 non-null  object\n 10  Location          18969 non-null  object\n 11  JobDescription    15109 non-null  object\n 12  JobRequirment     16479 non-null  object\n 13  RequiredQual      18517 non-null  object\n 14  Salary            9622 non-null   object\n 15  ApplicationP      18941 non-null  object\n 16  OpeningDate       18295 non-null  object\n 17  Deadline          18936 non-null  object\n 18  Notes             2211 non-null   object\n 19  AboutC            12470 non-null  object\n 20  Attach            1559 non-null   object\n 21  Year              19001 non-null  int64 \n 22  Month             19001 non-null  int64 \n 23  IT                19001 non-null  bool  \ndtypes: bool(1), int64(2), object(21)\nmemory usage: 3.4+ MB\n"
     ]
    }
   ],
   "source": [
    "# Show basic info of the dataset\n",
    "df.info()"
   ]
  },
  {
   "cell_type": "code",
   "execution_count": 23,
   "metadata": {},
   "outputs": [
    {
     "output_type": "stream",
     "name": "stdout",
     "text": [
      "<class 'pandas.core.frame.DataFrame'>\nRangeIndex: 19001 entries, 0 to 19000\nData columns (total 24 columns):\n #   Column            Non-Null Count  Dtype \n---  ------            --------------  ----- \n 0   jobpost           19001 non-null  object\n 1   date              19001 non-null  object\n 2   Title             18973 non-null  object\n 3   Company           18994 non-null  object\n 4   AnnouncementCode  1208 non-null   object\n 5   Term              7676 non-null   object\n 6   Eligibility       4930 non-null   object\n 7   Audience          640 non-null    object\n 8   StartDate         9675 non-null   object\n 9   Duration          10798 non-null  object\n 10  Location          18969 non-null  object\n 11  JobDescription    15109 non-null  object\n 12  JobRequirment     16479 non-null  object\n 13  RequiredQual      18517 non-null  object\n 14  Salary            9622 non-null   object\n 15  ApplicationP      18941 non-null  object\n 16  OpeningDate       18295 non-null  object\n 17  Deadline          18936 non-null  object\n 18  Notes             2211 non-null   object\n 19  AboutC            12470 non-null  object\n 20  Attach            1559 non-null   object\n 21  Year              19001 non-null  int64 \n 22  Month             19001 non-null  int64 \n 23  IT                19001 non-null  bool  \ndtypes: bool(1), int64(2), object(21)\nmemory usage: 3.4+ MB\n"
     ]
    }
   ],
   "source": [
    "# Display a basic summary of the DataFrame using .info\n",
    "df.info()"
   ]
  },
  {
   "cell_type": "markdown",
   "metadata": {},
   "source": [
    "Observations:\n",
    "- Missing values (NaN)\n",
    "- StartDate inconsistencies (ASAP)\n",
    "- Fix nondescriptive column headers (ApplicationP, AboutC, RequiredQual ... and also JobRequirment)\n",
    "\n",
    "## Clean\n",
    "#### Define\n",
    "- Select all nondescriptive and misspelled column headers (ApplicationP, AboutC, RequiredQual, JobRequirment) and replace them with full words (ApplicationProcedure, AboutCompany, RequiredQualifications, JobRequirement)\n",
    "- Select all records in the StartDate column that have \"As soon as possible\", \"Immediately\", etc. and replace the text in those cells with \"ASAP\"\n",
    "\n",
    "#### Code"
   ]
  },
  {
   "cell_type": "code",
   "execution_count": 42,
   "metadata": {},
   "outputs": [],
   "source": [
    "# Copy dataframe\n",
    "df_clean = df.copy()"
   ]
  },
  {
   "source": [
    "- Select all nondescriptive and misspelled column headers (ApplicationP, AboutC, RequiredQual, JobRequirment) and replace them with full words (ApplicationProcedure, AboutCompany, RequiredQualifications, JobRequirement)"
   ],
   "cell_type": "markdown",
   "metadata": {}
  },
  {
   "cell_type": "code",
   "execution_count": 33,
   "metadata": {},
   "outputs": [],
   "source": [
    "# Rename Columns\n",
    "df_clean = df_clean.rename(columns={'ApplicationP': 'ApplicationProcedure',\n",
    "                                    'AboutC': 'AboutCompany',\n",
    "                                    'RequiredQual': 'RequiredQualifications',\n",
    "                                    'JobRequirment': 'JobRequirements'})"
   ]
  },
  {
   "source": [
    "- Select all records in the StartDate column that have \"As soon as possible\", \"Immediately\", etc. and replace the text in those cells with \"ASAP\""
   ],
   "cell_type": "markdown",
   "metadata": {}
  },
  {
   "cell_type": "code",
   "execution_count": 34,
   "metadata": {},
   "outputs": [],
   "source": [
    "# replace all values from the list below with 'ASAP' in column 'StartDate'\n",
    "asap_list = ['Immediately', 'As soon as possible', 'Upon hiring',\n",
    "             'Immediate', 'Immediate employment', 'As soon as possible.', 'Immediate job opportunity',\n",
    "             '\"Immediate employment, after passing the interview.\"',\n",
    "             'ASAP preferred', 'Employment contract signature date',\n",
    "             'Immediate employment opportunity', 'Immidiately', 'ASA',\n",
    "             'Asap', '\"The position is open immediately but has a flexible start date depending on the candidates earliest availability.\"',\n",
    "             'Immediately upon agreement', '20 November 2014 or ASAP',\n",
    "             'immediately', 'Immediatelly',\n",
    "             '\"Immediately upon selection or no later than November 15, 2009.\"',\n",
    "             'Immediate job opening', 'Immediate hiring', 'Upon selection',\n",
    "             'As soon as practical', 'Immadiate', 'As soon as posible',\n",
    "             'Immediately with 2 months probation period',\n",
    "             '12 November 2012 or ASAP', 'Immediate employment after passing the interview',\n",
    "             'Immediately/ upon agreement', '01 September 2014 or ASAP',\n",
    "             'Immediately or as per agreement', 'as soon as possible',\n",
    "             'As soon as Possible', 'in the nearest future', 'immediate',\n",
    "             '01 April 2014 or ASAP', 'Immidiatly', 'Urgent',\n",
    "             'Immediate or earliest possible', 'Immediate hire',\n",
    "             'Earliest  possible', 'ASAP with 3 months probation period.',\n",
    "             'Immediate employment opportunity.', 'Immediate employment.',\n",
    "             'Immidietly', 'Imminent', 'September 2014 or ASAP', 'Imediately']\n",
    "\n",
    "for phrase in asap_list:\n",
    "    df_clean.StartDate.replace(phrase, 'ASAP', inplace=True)"
   ]
  },
  {
   "cell_type": "markdown",
   "metadata": {},
   "source": [
    "#### Test"
   ]
  },
  {
   "cell_type": "code",
   "execution_count": 35,
   "metadata": {
    "collapsed": true
   },
   "outputs": [
    {
     "output_type": "stream",
     "name": "stdout",
     "text": [
      "<class 'pandas.core.frame.DataFrame'>\nRangeIndex: 19001 entries, 0 to 19000\nData columns (total 24 columns):\n #   Column                  Non-Null Count  Dtype \n---  ------                  --------------  ----- \n 0   jobpost                 19001 non-null  object\n 1   date                    19001 non-null  object\n 2   Title                   18973 non-null  object\n 3   Company                 18994 non-null  object\n 4   AnnouncementCode        1208 non-null   object\n 5   Term                    7676 non-null   object\n 6   Eligibility             4930 non-null   object\n 7   Audience                640 non-null    object\n 8   StartDate               9675 non-null   object\n 9   Duration                10798 non-null  object\n 10  Location                18969 non-null  object\n 11  JobDescription          15109 non-null  object\n 12  JobRequirements         16479 non-null  object\n 13  RequiredQualifications  18517 non-null  object\n 14  Salary                  9622 non-null   object\n 15  ApplicationProcedure    18941 non-null  object\n 16  OpeningDate             18295 non-null  object\n 17  Deadline                18936 non-null  object\n 18  Notes                   2211 non-null   object\n 19  AboutCompany            12470 non-null  object\n 20  Attach                  1559 non-null   object\n 21  Year                    19001 non-null  int64 \n 22  Month                   19001 non-null  int64 \n 23  IT                      19001 non-null  bool  \ndtypes: bool(1), int64(2), object(21)\nmemory usage: 3.4+ MB\n"
     ]
    }
   ],
   "source": [
    "# See, whether renaming worked correctly\n",
    "df_clean.info()"
   ]
  },
  {
   "cell_type": "code",
   "execution_count": 41,
   "metadata": {},
   "outputs": [
    {
     "output_type": "stream",
     "name": "stdout",
     "text": [
      "Count of \"ASAP\" entries before replacing: 4754\nCount of \"ASAP\" entries after replacing: 6856\n"
     ]
    }
   ],
   "source": [
    "# Compare count of ASAP entries from new to old\n",
    "print('Count of \"ASAP\" entries before replacing: %d' % df.StartDate.value_counts().ASAP)\n",
    "print('Count of \"ASAP\" entries after replacing: %d' % df_clean.StartDate.value_counts().ASAP)\n",
    " "
   ]
  }
 ],
 "metadata": {
  "kernelspec": {
   "name": "python391jvsc74a57bd00b81dc8a68f744151144c30d32802b576a27b4dc7c7d9817d5e3c59f7094e68a",
   "display_name": "Python 3.9.1 64-bit"
  },
  "language_info": {
   "codemirror_mode": {
    "name": "ipython",
    "version": 3
   },
   "file_extension": ".py",
   "mimetype": "text/x-python",
   "name": "python",
   "nbconvert_exporter": "python",
   "pygments_lexer": "ipython3",
   "version": "3.9.1-final"
  },
  "metadata": {
   "interpreter": {
    "hash": "0b81dc8a68f744151144c30d32802b576a27b4dc7c7d9817d5e3c59f7094e68a"
   }
  }
 },
 "nbformat": 4,
 "nbformat_minor": 2
}